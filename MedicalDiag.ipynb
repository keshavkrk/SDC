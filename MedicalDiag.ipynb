{
  "nbformat": 4,
  "nbformat_minor": 0,
  "metadata": {
    "colab": {
      "provenance": [],
      "authorship_tag": "ABX9TyNXcWCeQZciadf+ZwoLs3U5",
      "include_colab_link": true
    },
    "kernelspec": {
      "name": "python3",
      "display_name": "Python 3"
    },
    "language_info": {
      "name": "python"
    }
  },
  "cells": [
    {
      "cell_type": "markdown",
      "metadata": {
        "id": "view-in-github",
        "colab_type": "text"
      },
      "source": [
        "<a href=\"https://colab.research.google.com/github/keshavkrk/SDC/blob/main/MedicalDiag.ipynb\" target=\"_parent\"><img src=\"https://colab.research.google.com/assets/colab-badge.svg\" alt=\"Open In Colab\"/></a>"
      ]
    },
    {
      "cell_type": "code",
      "execution_count": 1,
      "metadata": {
        "colab": {
          "base_uri": "https://localhost:8080/"
        },
        "id": "SXUwaWPTCHz5",
        "outputId": "daad0120-eae3-4cd4-a467-3fe946f169de"
      },
      "outputs": [
        {
          "output_type": "stream",
          "name": "stdout",
          "text": [
            "Collecting biopython\n",
            "  Downloading biopython-1.85-cp311-cp311-manylinux_2_17_x86_64.manylinux2014_x86_64.whl.metadata (13 kB)\n",
            "Requirement already satisfied: numpy in /usr/local/lib/python3.11/dist-packages (from biopython) (2.0.2)\n",
            "Downloading biopython-1.85-cp311-cp311-manylinux_2_17_x86_64.manylinux2014_x86_64.whl (3.3 MB)\n",
            "\u001b[2K   \u001b[90m━━━━━━━━━━━━━━━━━━━━━━━━━━━━━━━━━━━━━━━━\u001b[0m \u001b[32m3.3/3.3 MB\u001b[0m \u001b[31m31.3 MB/s\u001b[0m eta \u001b[36m0:00:00\u001b[0m\n",
            "\u001b[?25hInstalling collected packages: biopython\n",
            "Successfully installed biopython-1.85\n",
            "Requirement already satisfied: requests in /usr/local/lib/python3.11/dist-packages (2.32.3)\n",
            "Requirement already satisfied: charset-normalizer<4,>=2 in /usr/local/lib/python3.11/dist-packages (from requests) (3.4.1)\n",
            "Requirement already satisfied: idna<4,>=2.5 in /usr/local/lib/python3.11/dist-packages (from requests) (3.10)\n",
            "Requirement already satisfied: urllib3<3,>=1.21.1 in /usr/local/lib/python3.11/dist-packages (from requests) (2.3.0)\n",
            "Requirement already satisfied: certifi>=2017.4.17 in /usr/local/lib/python3.11/dist-packages (from requests) (2025.1.31)\n"
          ]
        }
      ],
      "source": [
        "!pip install biopython\n",
        "!pip install requests\n"
      ]
    },
    {
      "cell_type": "code",
      "source": [
        "from Bio import Entrez\n",
        "\n",
        "# Function to fetch PubMed articles based on search term\n",
        "def search_pubmed(query, max_results=10):\n",
        "    Entrez.email = \"your-email@example.com\"  # Required by NCBI to track usage\n",
        "    handle = Entrez.esearch(db=\"pubmed\", term=query, retmax=max_results)\n",
        "    record = Entrez.read(handle)\n",
        "    return record['IdList']\n",
        "\n",
        "# Example: Search for articles related to 'diabetes diagnosis'\n",
        "query = \"diabetes diagnosis\"\n",
        "article_ids = search_pubmed(query)\n",
        "print(article_ids)\n"
      ],
      "metadata": {
        "colab": {
          "base_uri": "https://localhost:8080/"
        },
        "id": "FI11MjpaCJJw",
        "outputId": "7a5fb62f-4a23-4be5-ea4e-12bb3fb9daa7"
      },
      "execution_count": 2,
      "outputs": [
        {
          "output_type": "stream",
          "name": "stdout",
          "text": [
            "['40234851', '40234846', '40234790', '40234618', '40234531', '40234333', '40234323', '40234213', '40234071', '40234063']\n"
          ]
        }
      ]
    },
    {
      "cell_type": "code",
      "source": [
        "# Function to fetch article details from PubMed using article IDs\n",
        "def fetch_article_details(article_ids):\n",
        "    ids = \",\".join(article_ids)\n",
        "    handle = Entrez.efetch(db=\"pubmed\", id=ids, rettype=\"xml\", retmode=\"text\")\n",
        "    records = Entrez.read(handle)\n",
        "    return records\n",
        "\n",
        "# Fetch details of articles\n",
        "article_details = fetch_article_details(article_ids)\n",
        "for article in article_details['PubmedArticle']:\n",
        "    print(\"Title:\", article['MedlineCitation']['Article']['ArticleTitle'])\n",
        "    print(\"Abstract:\", article['MedlineCitation']['Article']['Abstract']['AbstractText'][0])\n",
        "    print()\n"
      ],
      "metadata": {
        "colab": {
          "base_uri": "https://localhost:8080/"
        },
        "id": "4jqMH6gQCh9O",
        "outputId": "1d718df6-7907-4d1c-9ab0-d0b8b5ea428a"
      },
      "execution_count": 3,
      "outputs": [
        {
          "output_type": "stream",
          "name": "stdout",
          "text": [
            "Title: Comparative differences in metabolic, mental health and perinatal outcomes of women with gestational diabetes in Ghana and Switzerland: the G-MUM study.\n",
            "Abstract: Gestational diabetes mellitus (GDM) prevalence (9-15%) is similar in Ghana and Switzerland, despite differences in sociodemographic characteristics, lifestyle, and healthcare systems. Contrary to Switzerland, data on the metabolic and mental health outcomes of women with GDM in Ghana is lacking. We compared the metabolic, mental health, and perinatal outcomes of GDM during pregnancy in Ghana and Switzerland.\n",
            "\n",
            "Title: Combining genetic and non-genetic factors to predict the risk of pancreatic cancer in patients with new-onset diabetes mellitus.\n",
            "Abstract: Recent research suggests that new-onset diabetes mellitus (NODM) often results from pancreatic cancer (PC) rather than causing it. Determining if NODM is type 2 diabetes mellitus (T2DM) or PC-related NODM (NODM-PC) aids in the early diagnosis of PC. We developed a NODM-PC risk prediction model to stratify PC risk in patients with NODM.\n",
            "\n",
            "Title: Frequency of insulin resistance among non-diabetic patients with non-alcoholic fatty liver disease using HOMA-IR: an experience of a tertiary care hospital in Karachi, Pakistan.\n",
            "Abstract: Non-alcoholic fatty liver disease (NAFLD) is a global problem strongly interlinked with metabolic syndrome. Insulin resistance (IR) is a key factor both in pathogenesis and in the progression to liver fibrosis. This article highlights the frequency of IR in local population.\n",
            "\n",
            "Title: Association between prognostic nutritional index and diabetic retinopathy among U.S. diabetic adults in NHANES.\n",
            "Abstract: Diabetic retinopathy (DR) is characterized by progressive retinal vascular damage that ultimately causes vision loss. The prognostic nutritional index (PNI), which integrates albumin and lymphocytes, serves as an indicator of an individual's inflammatory response, nutritional condition, and immune system function. This research aimed to explore the possible association between PNI and DR. This was a cross-sectional study utilizing data from the National Health and Nutrition Examination Survey (NHANES) between 2001 and 2018. Weighted logistic regression analyses were employed to assess the relationship between PNI and DR prevalence. A total of 4791 adults aged 20 years and older were included in the analysis. Results indicated a statistically significant negative correlation between PNI and DR prevalence. In the fully adjusted model, a one-unit rise in PNI corresponded to a 7% reduction in the probability of DR prevalence. Quartile analysis consistently indicated that individuals in the highest PNI quartile had notably lower odds of DR prevalence compared to those in the lowest quartile. Additionally, smooth curve fitting suggested a nonlinear relationship between PNI and DR. Subgroup analysis reinforced the strength of the inverse association between PNI and DR (all p for interaction > 0.05). This nationally representative study demonstrated a significant inverse relationship between PNI levels and DR prevalence among diabetic adults in the United States. Our findings emphasize the potential role of maintaining optimal PNI values in preventing the development of DR.\n",
            "\n",
            "Title: Urinary metabolomics reveals myo-inositol and (E)-Monocrotophos associate with prognosis in ACS comorbid with T2DM and preserved renal function.\n",
            "Abstract: Type 2 diabetes mellitus (T2DM) is closely associated with an increased risk and adverse event of acute coronary syndrome (ACS). The present study aims to investigate the association between differential urinary metabolites and major adverse cardiovascular events (MACEs) in patients with ACS co-morbid T2DM with preserved renal function, and to explore the potential value of the metabolites as prognostic biomarkers in this population. Ultra-high performance liquid chromatography-mass spectrometry (UHPLC/MS) was used to analyze urine samples from ACS co-morbid T2DM. Spearman's correlation was used to examine the association between differential metabolites and serum fasting blood glucose (FBG), glycated hemoglobin (HbA1c), Syntax score I, and MACE. The Cox proportional hazards models and Kaplan-Meier survival curves were used to identify MACE risk factors. A total of 101 differential urinary metabolites were identified, of which seven showed a correlation with FBG, HbA1c, Syntax score I and MACE. In particular, myo-inositol and (E)-Monocrotophos emerged as significant indicators of poor prognosis in ACS co-morbid with T2DM. Urinary metabolomic alteration is closely associated with clinical manifestation of ACS co-morbid T2DM. Urinary myo-inositol and (E)-Monocrotophos may be considered as prognostic biomarkers of ACS co-morbid T2DM.\n",
            "\n",
            "Title: Natural history of groin hernias in women and factors leading to delay in repair: a single-institution study.\n",
            "Abstract: The objective of this study was to describe the natural history of groin hernias in women at a high-volume tertiary medical center. Specifically, we abstracted the duration of symptoms prior to diagnosis, imaging modalities used, and operative findings. We hypothesized that females would experience a protracted preoperative clinical course.\n",
            "\n",
            "Title: The risk of new-onset type 2 diabetes and the influence of risk factors among men with prostate cancer in the Danish Diet, Cancer, and Health study.\n",
            "Abstract: To investigate the risk of new-onset type 2 diabetes mellitus (T2DM) in men with and without prostate cancer (PCa) and the influence of cardiometabolic risk factors. Furthermore, we examined the association between first-line androgen deprivation therapy (ADT) and the risk of T2DM in a subpopulation of men with PCa.\n",
            "\n",
            "Title: Trichosporon species bloodstream infections in a tertiary care hospital in the western region of Saudi Arabia: a 7-year retrospective chart review from 2016 to 2022.\n",
            "Abstract: Despite advances in medical mycology, invasive Trichosporon spp infections continue to be associated with high mortality rates. Limited data exist on the risk factors and outcomes of Trichosporon fungemia, particularly in our region. Therefore, this study aims to describe the risk factors, patient characteristics, antifungal susceptibility, and outcome of Trichosporon bloodstream infections at a tertiary care hospital in Saudi Arabia. This was a single-center retrospective chart review that included adult patients ≥ 16 years with positive blood cultures for Trichosporon spp from January-2016 to December-2022. Descriptive statistics are presented using the mean for continuous variables and the number (percentage) for categorical variables. Ten patients with Trichosporon spp isolated from blood cultures were eligible for inclusion in this study. The mean age was 58.1 years (range 17-83), with 70% male patients. Additionally, 40% had diabetes mellitus, and 40% had underlying malignancy. Trichosporon asahii was the predominant species in 90% of isolates. All patients had recent broad-spectrum antibiotic use, 80% were exposed to corticosteroids, and all had central venous catheters (CVC). One kidney transplant had an early recurrence of Trichosporon spp fungemia. Four patients were cured of the infection, two were treated with voriconazole monotherapy, and two were treated with a combination of liposomal amphotericin B plus Voriconazole. 30-day all-cause mortality was 60%, with three deaths occurring before identification of the isolates. In conclusion, our study reported a predominance of Trichosporon asahii and a mortality rate of 60% in patients with Trichosporon fungemia. Challenges include delayed diagnosis, high mortality, and antifungal resistance, underscoring the need for further research to enhance treatment strategies and patient outcomes.\n",
            "\n",
            "Title: Autoimmune encephalitis with autoimmune myocarditis.\n",
            "Abstract: Autoimmune encephalitis can be associated with other autoimmune disorders, but the concurrent presence of autoimmune encephalitis and autoimmune myocarditis is uncommon. A man in his 80s with type 2 diabetes mellitus, hypertension and hypothyroidism presented with altered mental status for 8 months. He was previously diagnosed with myasthenia gravis, but therapy was discontinued due to infection. On presentation, he was wheelchair-bound with disorientation, proximal weakness, hyporeflexia and bradykinesia. MRI brain showed atrophy, and cerebrospinal fluid analysis revealed mildly elevated protein (58.8 mg/dL) without pleocytosis. Despite treatment for urinary tract infection and septic encephalopathy, his sensorium did not improve. A diagnosis of possible autoimmune encephalitis was considered, though antibody studies were negative. Whole-body Positron Emission Tomography - Computerized Tomography (PET-CT) ruled out malignancy and showed global hypokinesia, while echocardiography showed severe left ventricular systolic dysfunction. Positive acetylcholine receptor antibody led to intravenous immunoglobulin therapy, which improved his sensorium and cardiac dysfunction suggesting a positive association.\n",
            "\n",
            "Title: Detection of diabetic macular oedema patterns with fine-grained image categorisation on optical coherence tomography.\n",
            "Abstract: To develop an artificial intelligence (AI) system for detecting pathological patterns of diabetic macular oedema (DME) with fine-grained image categorisation using optical coherence tomography (OCT) images.\n",
            "\n"
          ]
        }
      ]
    },
    {
      "cell_type": "code",
      "source": [
        "!pip install spacy\n",
        "!python -m spacy download en_core_web_sm\n"
      ],
      "metadata": {
        "colab": {
          "base_uri": "https://localhost:8080/"
        },
        "id": "saTh-yTwCqHg",
        "outputId": "7fb9eff2-a414-4b1e-b8d0-ec35ea7dc246"
      },
      "execution_count": 4,
      "outputs": [
        {
          "output_type": "stream",
          "name": "stdout",
          "text": [
            "Requirement already satisfied: spacy in /usr/local/lib/python3.11/dist-packages (3.8.5)\n",
            "Requirement already satisfied: spacy-legacy<3.1.0,>=3.0.11 in /usr/local/lib/python3.11/dist-packages (from spacy) (3.0.12)\n",
            "Requirement already satisfied: spacy-loggers<2.0.0,>=1.0.0 in /usr/local/lib/python3.11/dist-packages (from spacy) (1.0.5)\n",
            "Requirement already satisfied: murmurhash<1.1.0,>=0.28.0 in /usr/local/lib/python3.11/dist-packages (from spacy) (1.0.12)\n",
            "Requirement already satisfied: cymem<2.1.0,>=2.0.2 in /usr/local/lib/python3.11/dist-packages (from spacy) (2.0.11)\n",
            "Requirement already satisfied: preshed<3.1.0,>=3.0.2 in /usr/local/lib/python3.11/dist-packages (from spacy) (3.0.9)\n",
            "Requirement already satisfied: thinc<8.4.0,>=8.3.4 in /usr/local/lib/python3.11/dist-packages (from spacy) (8.3.6)\n",
            "Requirement already satisfied: wasabi<1.2.0,>=0.9.1 in /usr/local/lib/python3.11/dist-packages (from spacy) (1.1.3)\n",
            "Requirement already satisfied: srsly<3.0.0,>=2.4.3 in /usr/local/lib/python3.11/dist-packages (from spacy) (2.5.1)\n",
            "Requirement already satisfied: catalogue<2.1.0,>=2.0.6 in /usr/local/lib/python3.11/dist-packages (from spacy) (2.0.10)\n",
            "Requirement already satisfied: weasel<0.5.0,>=0.1.0 in /usr/local/lib/python3.11/dist-packages (from spacy) (0.4.1)\n",
            "Requirement already satisfied: typer<1.0.0,>=0.3.0 in /usr/local/lib/python3.11/dist-packages (from spacy) (0.15.2)\n",
            "Requirement already satisfied: tqdm<5.0.0,>=4.38.0 in /usr/local/lib/python3.11/dist-packages (from spacy) (4.67.1)\n",
            "Requirement already satisfied: numpy>=1.19.0 in /usr/local/lib/python3.11/dist-packages (from spacy) (2.0.2)\n",
            "Requirement already satisfied: requests<3.0.0,>=2.13.0 in /usr/local/lib/python3.11/dist-packages (from spacy) (2.32.3)\n",
            "Requirement already satisfied: pydantic!=1.8,!=1.8.1,<3.0.0,>=1.7.4 in /usr/local/lib/python3.11/dist-packages (from spacy) (2.11.3)\n",
            "Requirement already satisfied: jinja2 in /usr/local/lib/python3.11/dist-packages (from spacy) (3.1.6)\n",
            "Requirement already satisfied: setuptools in /usr/local/lib/python3.11/dist-packages (from spacy) (75.2.0)\n",
            "Requirement already satisfied: packaging>=20.0 in /usr/local/lib/python3.11/dist-packages (from spacy) (24.2)\n",
            "Requirement already satisfied: langcodes<4.0.0,>=3.2.0 in /usr/local/lib/python3.11/dist-packages (from spacy) (3.5.0)\n",
            "Requirement already satisfied: language-data>=1.2 in /usr/local/lib/python3.11/dist-packages (from langcodes<4.0.0,>=3.2.0->spacy) (1.3.0)\n",
            "Requirement already satisfied: annotated-types>=0.6.0 in /usr/local/lib/python3.11/dist-packages (from pydantic!=1.8,!=1.8.1,<3.0.0,>=1.7.4->spacy) (0.7.0)\n",
            "Requirement already satisfied: pydantic-core==2.33.1 in /usr/local/lib/python3.11/dist-packages (from pydantic!=1.8,!=1.8.1,<3.0.0,>=1.7.4->spacy) (2.33.1)\n",
            "Requirement already satisfied: typing-extensions>=4.12.2 in /usr/local/lib/python3.11/dist-packages (from pydantic!=1.8,!=1.8.1,<3.0.0,>=1.7.4->spacy) (4.13.1)\n",
            "Requirement already satisfied: typing-inspection>=0.4.0 in /usr/local/lib/python3.11/dist-packages (from pydantic!=1.8,!=1.8.1,<3.0.0,>=1.7.4->spacy) (0.4.0)\n",
            "Requirement already satisfied: charset-normalizer<4,>=2 in /usr/local/lib/python3.11/dist-packages (from requests<3.0.0,>=2.13.0->spacy) (3.4.1)\n",
            "Requirement already satisfied: idna<4,>=2.5 in /usr/local/lib/python3.11/dist-packages (from requests<3.0.0,>=2.13.0->spacy) (3.10)\n",
            "Requirement already satisfied: urllib3<3,>=1.21.1 in /usr/local/lib/python3.11/dist-packages (from requests<3.0.0,>=2.13.0->spacy) (2.3.0)\n",
            "Requirement already satisfied: certifi>=2017.4.17 in /usr/local/lib/python3.11/dist-packages (from requests<3.0.0,>=2.13.0->spacy) (2025.1.31)\n",
            "Requirement already satisfied: blis<1.4.0,>=1.3.0 in /usr/local/lib/python3.11/dist-packages (from thinc<8.4.0,>=8.3.4->spacy) (1.3.0)\n",
            "Requirement already satisfied: confection<1.0.0,>=0.0.1 in /usr/local/lib/python3.11/dist-packages (from thinc<8.4.0,>=8.3.4->spacy) (0.1.5)\n",
            "Requirement already satisfied: click>=8.0.0 in /usr/local/lib/python3.11/dist-packages (from typer<1.0.0,>=0.3.0->spacy) (8.1.8)\n",
            "Requirement already satisfied: shellingham>=1.3.0 in /usr/local/lib/python3.11/dist-packages (from typer<1.0.0,>=0.3.0->spacy) (1.5.4)\n",
            "Requirement already satisfied: rich>=10.11.0 in /usr/local/lib/python3.11/dist-packages (from typer<1.0.0,>=0.3.0->spacy) (13.9.4)\n",
            "Requirement already satisfied: cloudpathlib<1.0.0,>=0.7.0 in /usr/local/lib/python3.11/dist-packages (from weasel<0.5.0,>=0.1.0->spacy) (0.21.0)\n",
            "Requirement already satisfied: smart-open<8.0.0,>=5.2.1 in /usr/local/lib/python3.11/dist-packages (from weasel<0.5.0,>=0.1.0->spacy) (7.1.0)\n",
            "Requirement already satisfied: MarkupSafe>=2.0 in /usr/local/lib/python3.11/dist-packages (from jinja2->spacy) (3.0.2)\n",
            "Requirement already satisfied: marisa-trie>=1.1.0 in /usr/local/lib/python3.11/dist-packages (from language-data>=1.2->langcodes<4.0.0,>=3.2.0->spacy) (1.2.1)\n",
            "Requirement already satisfied: markdown-it-py>=2.2.0 in /usr/local/lib/python3.11/dist-packages (from rich>=10.11.0->typer<1.0.0,>=0.3.0->spacy) (3.0.0)\n",
            "Requirement already satisfied: pygments<3.0.0,>=2.13.0 in /usr/local/lib/python3.11/dist-packages (from rich>=10.11.0->typer<1.0.0,>=0.3.0->spacy) (2.18.0)\n",
            "Requirement already satisfied: wrapt in /usr/local/lib/python3.11/dist-packages (from smart-open<8.0.0,>=5.2.1->weasel<0.5.0,>=0.1.0->spacy) (1.17.2)\n",
            "Requirement already satisfied: mdurl~=0.1 in /usr/local/lib/python3.11/dist-packages (from markdown-it-py>=2.2.0->rich>=10.11.0->typer<1.0.0,>=0.3.0->spacy) (0.1.2)\n",
            "Collecting en-core-web-sm==3.8.0\n",
            "  Downloading https://github.com/explosion/spacy-models/releases/download/en_core_web_sm-3.8.0/en_core_web_sm-3.8.0-py3-none-any.whl (12.8 MB)\n",
            "\u001b[2K     \u001b[90m━━━━━━━━━━━━━━━━━━━━━━━━━━━━━━━━━━━━━━━━\u001b[0m \u001b[32m12.8/12.8 MB\u001b[0m \u001b[31m85.7 MB/s\u001b[0m eta \u001b[36m0:00:00\u001b[0m\n",
            "\u001b[?25h\u001b[38;5;2m✔ Download and installation successful\u001b[0m\n",
            "You can now load the package via spacy.load('en_core_web_sm')\n",
            "\u001b[38;5;3m⚠ Restart to reload dependencies\u001b[0m\n",
            "If you are in a Jupyter or Colab notebook, you may need to restart Python in\n",
            "order to load all the package's dependencies. You can do this by selecting the\n",
            "'Restart kernel' or 'Restart runtime' option.\n"
          ]
        }
      ]
    },
    {
      "cell_type": "code",
      "source": [
        "import spacy\n",
        "\n",
        "# Load spaCy's model\n",
        "nlp = spacy.load(\"en_core_web_sm\")\n",
        "\n",
        "# Example abstract\n",
        "abstract = \"Diabetes mellitus is diagnosed when blood glucose levels are above 200 mg/dL after fasting.\"\n",
        "\n",
        "# Process the abstract with spaCy NLP pipeline\n",
        "doc = nlp(abstract)\n",
        "\n",
        "# Print named entities (e.g., diseases, treatments)\n",
        "for ent in doc.ents:\n",
        "    print(ent.text, ent.label_)\n"
      ],
      "metadata": {
        "colab": {
          "base_uri": "https://localhost:8080/"
        },
        "id": "X9y0vEPdCqx7",
        "outputId": "5b7806a9-441a-4573-ed4c-fc57cc786c48"
      },
      "execution_count": 5,
      "outputs": [
        {
          "output_type": "stream",
          "name": "stdout",
          "text": [
            "mellitus ORG\n",
            "200 CARDINAL\n"
          ]
        }
      ]
    },
    {
      "cell_type": "code",
      "source": [
        "from transformers import pipeline\n",
        "\n",
        "# Load pre-trained model for text classification\n",
        "classifier = pipeline('zero-shot-classification', model='facebook/bart-large-mnli')\n",
        "\n",
        "# Example abstract\n",
        "abstract = \"The patient was diagnosed with type 2 diabetes after high blood sugar levels were observed.\"\n",
        "\n",
        "# Define possible labels (diseases)\n",
        "labels = [\"Diabetes\", \"Cancer\", \"Heart Disease\", \"Alzheimer's\", \"COVID-19\"]\n",
        "\n",
        "# Classify the abstract\n",
        "result = classifier(abstract, candidate_labels=labels)\n",
        "print(result)\n"
      ],
      "metadata": {
        "colab": {
          "base_uri": "https://localhost:8080/"
        },
        "id": "lgs9m9oQC5m7",
        "outputId": "5890fa5d-1787-485b-8495-1cf43bb8a476"
      },
      "execution_count": 7,
      "outputs": [
        {
          "output_type": "stream",
          "name": "stderr",
          "text": [
            "Device set to use cpu\n"
          ]
        },
        {
          "output_type": "stream",
          "name": "stdout",
          "text": [
            "{'sequence': 'The patient was diagnosed with type 2 diabetes after high blood sugar levels were observed.', 'labels': ['Diabetes', 'COVID-19', 'Heart Disease', 'Cancer', \"Alzheimer's\"], 'scores': [0.9198917746543884, 0.06499163806438446, 0.0062709106132388115, 0.004492565523833036, 0.004353090189397335]}\n"
          ]
        }
      ]
    },
    {
      "cell_type": "code",
      "source": [
        "!pip install biopython\n",
        "!pip install spacy\n",
        "!python -m spacy download en_core_web_sm\n"
      ],
      "metadata": {
        "colab": {
          "base_uri": "https://localhost:8080/"
        },
        "id": "euaw0P_vDWBU",
        "outputId": "eda1c262-e594-4dac-86bf-cf4aa8259ead"
      },
      "execution_count": 8,
      "outputs": [
        {
          "output_type": "stream",
          "name": "stdout",
          "text": [
            "Requirement already satisfied: biopython in /usr/local/lib/python3.11/dist-packages (1.85)\n",
            "Requirement already satisfied: numpy in /usr/local/lib/python3.11/dist-packages (from biopython) (2.0.2)\n",
            "Requirement already satisfied: spacy in /usr/local/lib/python3.11/dist-packages (3.8.5)\n",
            "Requirement already satisfied: spacy-legacy<3.1.0,>=3.0.11 in /usr/local/lib/python3.11/dist-packages (from spacy) (3.0.12)\n",
            "Requirement already satisfied: spacy-loggers<2.0.0,>=1.0.0 in /usr/local/lib/python3.11/dist-packages (from spacy) (1.0.5)\n",
            "Requirement already satisfied: murmurhash<1.1.0,>=0.28.0 in /usr/local/lib/python3.11/dist-packages (from spacy) (1.0.12)\n",
            "Requirement already satisfied: cymem<2.1.0,>=2.0.2 in /usr/local/lib/python3.11/dist-packages (from spacy) (2.0.11)\n",
            "Requirement already satisfied: preshed<3.1.0,>=3.0.2 in /usr/local/lib/python3.11/dist-packages (from spacy) (3.0.9)\n",
            "Requirement already satisfied: thinc<8.4.0,>=8.3.4 in /usr/local/lib/python3.11/dist-packages (from spacy) (8.3.6)\n",
            "Requirement already satisfied: wasabi<1.2.0,>=0.9.1 in /usr/local/lib/python3.11/dist-packages (from spacy) (1.1.3)\n",
            "Requirement already satisfied: srsly<3.0.0,>=2.4.3 in /usr/local/lib/python3.11/dist-packages (from spacy) (2.5.1)\n",
            "Requirement already satisfied: catalogue<2.1.0,>=2.0.6 in /usr/local/lib/python3.11/dist-packages (from spacy) (2.0.10)\n",
            "Requirement already satisfied: weasel<0.5.0,>=0.1.0 in /usr/local/lib/python3.11/dist-packages (from spacy) (0.4.1)\n",
            "Requirement already satisfied: typer<1.0.0,>=0.3.0 in /usr/local/lib/python3.11/dist-packages (from spacy) (0.15.2)\n",
            "Requirement already satisfied: tqdm<5.0.0,>=4.38.0 in /usr/local/lib/python3.11/dist-packages (from spacy) (4.67.1)\n",
            "Requirement already satisfied: numpy>=1.19.0 in /usr/local/lib/python3.11/dist-packages (from spacy) (2.0.2)\n",
            "Requirement already satisfied: requests<3.0.0,>=2.13.0 in /usr/local/lib/python3.11/dist-packages (from spacy) (2.32.3)\n",
            "Requirement already satisfied: pydantic!=1.8,!=1.8.1,<3.0.0,>=1.7.4 in /usr/local/lib/python3.11/dist-packages (from spacy) (2.11.3)\n",
            "Requirement already satisfied: jinja2 in /usr/local/lib/python3.11/dist-packages (from spacy) (3.1.6)\n",
            "Requirement already satisfied: setuptools in /usr/local/lib/python3.11/dist-packages (from spacy) (75.2.0)\n",
            "Requirement already satisfied: packaging>=20.0 in /usr/local/lib/python3.11/dist-packages (from spacy) (24.2)\n",
            "Requirement already satisfied: langcodes<4.0.0,>=3.2.0 in /usr/local/lib/python3.11/dist-packages (from spacy) (3.5.0)\n",
            "Requirement already satisfied: language-data>=1.2 in /usr/local/lib/python3.11/dist-packages (from langcodes<4.0.0,>=3.2.0->spacy) (1.3.0)\n",
            "Requirement already satisfied: annotated-types>=0.6.0 in /usr/local/lib/python3.11/dist-packages (from pydantic!=1.8,!=1.8.1,<3.0.0,>=1.7.4->spacy) (0.7.0)\n",
            "Requirement already satisfied: pydantic-core==2.33.1 in /usr/local/lib/python3.11/dist-packages (from pydantic!=1.8,!=1.8.1,<3.0.0,>=1.7.4->spacy) (2.33.1)\n",
            "Requirement already satisfied: typing-extensions>=4.12.2 in /usr/local/lib/python3.11/dist-packages (from pydantic!=1.8,!=1.8.1,<3.0.0,>=1.7.4->spacy) (4.13.1)\n",
            "Requirement already satisfied: typing-inspection>=0.4.0 in /usr/local/lib/python3.11/dist-packages (from pydantic!=1.8,!=1.8.1,<3.0.0,>=1.7.4->spacy) (0.4.0)\n",
            "Requirement already satisfied: charset-normalizer<4,>=2 in /usr/local/lib/python3.11/dist-packages (from requests<3.0.0,>=2.13.0->spacy) (3.4.1)\n",
            "Requirement already satisfied: idna<4,>=2.5 in /usr/local/lib/python3.11/dist-packages (from requests<3.0.0,>=2.13.0->spacy) (3.10)\n",
            "Requirement already satisfied: urllib3<3,>=1.21.1 in /usr/local/lib/python3.11/dist-packages (from requests<3.0.0,>=2.13.0->spacy) (2.3.0)\n",
            "Requirement already satisfied: certifi>=2017.4.17 in /usr/local/lib/python3.11/dist-packages (from requests<3.0.0,>=2.13.0->spacy) (2025.1.31)\n",
            "Requirement already satisfied: blis<1.4.0,>=1.3.0 in /usr/local/lib/python3.11/dist-packages (from thinc<8.4.0,>=8.3.4->spacy) (1.3.0)\n",
            "Requirement already satisfied: confection<1.0.0,>=0.0.1 in /usr/local/lib/python3.11/dist-packages (from thinc<8.4.0,>=8.3.4->spacy) (0.1.5)\n",
            "Requirement already satisfied: click>=8.0.0 in /usr/local/lib/python3.11/dist-packages (from typer<1.0.0,>=0.3.0->spacy) (8.1.8)\n",
            "Requirement already satisfied: shellingham>=1.3.0 in /usr/local/lib/python3.11/dist-packages (from typer<1.0.0,>=0.3.0->spacy) (1.5.4)\n",
            "Requirement already satisfied: rich>=10.11.0 in /usr/local/lib/python3.11/dist-packages (from typer<1.0.0,>=0.3.0->spacy) (13.9.4)\n",
            "Requirement already satisfied: cloudpathlib<1.0.0,>=0.7.0 in /usr/local/lib/python3.11/dist-packages (from weasel<0.5.0,>=0.1.0->spacy) (0.21.0)\n",
            "Requirement already satisfied: smart-open<8.0.0,>=5.2.1 in /usr/local/lib/python3.11/dist-packages (from weasel<0.5.0,>=0.1.0->spacy) (7.1.0)\n",
            "Requirement already satisfied: MarkupSafe>=2.0 in /usr/local/lib/python3.11/dist-packages (from jinja2->spacy) (3.0.2)\n",
            "Requirement already satisfied: marisa-trie>=1.1.0 in /usr/local/lib/python3.11/dist-packages (from language-data>=1.2->langcodes<4.0.0,>=3.2.0->spacy) (1.2.1)\n",
            "Requirement already satisfied: markdown-it-py>=2.2.0 in /usr/local/lib/python3.11/dist-packages (from rich>=10.11.0->typer<1.0.0,>=0.3.0->spacy) (3.0.0)\n",
            "Requirement already satisfied: pygments<3.0.0,>=2.13.0 in /usr/local/lib/python3.11/dist-packages (from rich>=10.11.0->typer<1.0.0,>=0.3.0->spacy) (2.18.0)\n",
            "Requirement already satisfied: wrapt in /usr/local/lib/python3.11/dist-packages (from smart-open<8.0.0,>=5.2.1->weasel<0.5.0,>=0.1.0->spacy) (1.17.2)\n",
            "Requirement already satisfied: mdurl~=0.1 in /usr/local/lib/python3.11/dist-packages (from markdown-it-py>=2.2.0->rich>=10.11.0->typer<1.0.0,>=0.3.0->spacy) (0.1.2)\n",
            "Collecting en-core-web-sm==3.8.0\n",
            "  Downloading https://github.com/explosion/spacy-models/releases/download/en_core_web_sm-3.8.0/en_core_web_sm-3.8.0-py3-none-any.whl (12.8 MB)\n",
            "\u001b[2K     \u001b[90m━━━━━━━━━━━━━━━━━━━━━━━━━━━━━━━━━━━━━━━━\u001b[0m \u001b[32m12.8/12.8 MB\u001b[0m \u001b[31m67.3 MB/s\u001b[0m eta \u001b[36m0:00:00\u001b[0m\n",
            "\u001b[?25h\u001b[38;5;2m✔ Download and installation successful\u001b[0m\n",
            "You can now load the package via spacy.load('en_core_web_sm')\n",
            "\u001b[38;5;3m⚠ Restart to reload dependencies\u001b[0m\n",
            "If you are in a Jupyter or Colab notebook, you may need to restart Python in\n",
            "order to load all the package's dependencies. You can do this by selecting the\n",
            "'Restart kernel' or 'Restart runtime' option.\n"
          ]
        }
      ]
    },
    {
      "cell_type": "code",
      "source": [
        "import os\n",
        "from Bio import Entrez\n",
        "import spacy\n",
        "from transformers import pipeline\n",
        "\n",
        "# Set up spaCy for Named Entity Recognition (NER)\n",
        "nlp = spacy.load(\"en_core_web_sm\")\n",
        "\n",
        "# Set up Hugging Face for classification (optional for diagnosis prediction)\n",
        "classifier = pipeline('zero-shot-classification', model='facebook/bart-large-mnli')\n",
        "\n",
        "# Function to search PubMed and fetch article details\n",
        "def search_pubmed(query, max_results=5):\n",
        "    Entrez.email = \"your-email@example.com\"  # Set your email (required by NCBI)\n",
        "    handle = Entrez.esearch(db=\"pubmed\", term=query, retmax=max_results)\n",
        "    record = Entrez.read(handle)\n",
        "    return record['IdList']\n",
        "\n",
        "def fetch_article_details(article_ids):\n",
        "    ids = \",\".join(article_ids)\n",
        "    handle = Entrez.efetch(db=\"pubmed\", id=ids, rettype=\"xml\", retmode=\"text\")\n",
        "    records = Entrez.read(handle)\n",
        "    return records\n"
      ],
      "metadata": {
        "colab": {
          "base_uri": "https://localhost:8080/"
        },
        "id": "wuHDzqUaDYqt",
        "outputId": "c54b911a-296b-43ef-aac6-485f1996a573"
      },
      "execution_count": 9,
      "outputs": [
        {
          "output_type": "stream",
          "name": "stderr",
          "text": [
            "Device set to use cpu\n"
          ]
        }
      ]
    },
    {
      "cell_type": "code",
      "source": [
        "# Get the disease or symptoms from the user\n",
        "user_input = input(\"Enter the disease or symptoms you have: \")\n",
        "\n",
        "# Search PubMed for related articles\n",
        "article_ids = search_pubmed(user_input, max_results=5)\n",
        "\n",
        "# Fetch the details of the articles found\n",
        "article_details = fetch_article_details(article_ids)\n"
      ],
      "metadata": {
        "colab": {
          "base_uri": "https://localhost:8080/"
        },
        "id": "WdsYw4EdDgNk",
        "outputId": "209807cb-e6c9-4cd3-d71d-3f032838919f"
      },
      "execution_count": 10,
      "outputs": [
        {
          "name": "stdout",
          "output_type": "stream",
          "text": [
            "Enter the disease or symptoms you have: aids\n"
          ]
        }
      ]
    },
    {
      "cell_type": "code",
      "source": [
        "def display_article_details(article_details):\n",
        "    for article in article_details['PubmedArticle']:\n",
        "        title = article['MedlineCitation']['Article']['ArticleTitle']\n",
        "\n",
        "        # Safely get the abstract, handle missing values\n",
        "        abstract = article['MedlineCitation']['Article'].get('Abstract', {}).get('AbstractText', [\"No abstract available\"])[0]\n",
        "\n",
        "        print(\"\\nTitle:\", title)\n",
        "        print(\"Abstract:\", abstract)\n",
        "\n",
        "        # Convert the abstract to a string explicitly, if it's not already\n",
        "        abstract = str(abstract)\n",
        "\n",
        "        # Run Named Entity Recognition (NER) on the abstract\n",
        "        doc = nlp(abstract)\n",
        "        print(\"Entities:\", [(ent.text, ent.label_) for ent in doc.ents])\n",
        "\n",
        "# Display article details\n",
        "display_article_details(article_details)\n"
      ],
      "metadata": {
        "colab": {
          "base_uri": "https://localhost:8080/"
        },
        "id": "uNLY5znBDkHU",
        "outputId": "27c0ed65-b079-4f68-b6db-d3e6d4f92b35"
      },
      "execution_count": 13,
      "outputs": [
        {
          "output_type": "stream",
          "name": "stdout",
          "text": [
            "\n",
            "Title: Do long-lasting insecticidal nets retain their efficacy after three years of usage in Afghanistan? Findings from a study on survivorship, physical integrity, insecticidal activity and wash resistance.\n",
            "Abstract: Long-Lasting Insecticidal Nets (LLINs) are effective malaria prevention tools. However, information is limited about their durability and wash resistance in field circumstances, especially in seasonal transmission areas in South Asia. This study comprised a systematic examination of usage, physical integrity and insecticidal activity of LLINs in households in Afghanistan, three years after distribution.\n",
            "Entities: [('South Asia', 'LOC'), ('LLINs', 'ORG'), ('Afghanistan', 'GPE'), ('three years', 'DATE')]\n",
            "\n",
            "Title: Combining genetic and non-genetic factors to predict the risk of pancreatic cancer in patients with new-onset diabetes mellitus.\n",
            "Abstract: Recent research suggests that new-onset diabetes mellitus (NODM) often results from pancreatic cancer (PC) rather than causing it. Determining if NODM is type 2 diabetes mellitus (T2DM) or PC-related NODM (NODM-PC) aids in the early diagnosis of PC. We developed a NODM-PC risk prediction model to stratify PC risk in patients with NODM.\n",
            "Entities: [('NODM', 'ORG'), ('NODM', 'ORG'), ('2', 'CARDINAL'), ('NODM', 'ORG'), ('NODM', 'ORG'), ('NODM', 'ORG')]\n",
            "\n",
            "Title: Impact of early postoperative ambulation on gait recovery after hip fracture surgery: a multicenter cohort study.\n",
            "Abstract: The study aimed to investigate the effect of early postoperative ambulation on gait recovery at the initial postoperative week and at discharge after hip fracture surgery in older patients. In this prospective cohort study, 882 patients aged ≥ 65 years from 10 acute hospitals in Japan were divided into early-ambulation (EA) (ambulation initiated on postoperative day 1 or 2) and late-ambulation (LA) (ambulation initiated on postoperative day 3 or later) groups. The Functional Independence Measure (FIM) was assessed 1 day postoperatively, 1 week postoperatively, and at discharge. Independent walking regardless of walking aids was defined as walking FIM ≥ 5. Multivariate logistic regression analysis and a generalized linear mixed model, accounting for inter-hospital variability, determined whether EA affected independent walking at 1 week postoperatively and at discharge. The number of patients walking independently 1 week postoperatively and at discharge was 156 (17.7%) and 292 (33.1%), respectively. On multivariate logistic regression analysis, EA was associated with independent walking at 1 week postoperatively (odds ratio [OR] 3.27; 95% confidence interval [CI] 2.17-4.94; P < 0.0001) and at discharge (OR 3.33; 95% CI 2.38-4.69; P < 0.0001). This study highlights the importance of EA in promoting postoperative independent walking, regardless of hospital setting.\n",
            "Entities: [('the initial postoperative week', 'DATE'), ('882', 'CARDINAL'), ('65 years', 'DATE'), ('10', 'CARDINAL'), ('Japan', 'GPE'), ('EA', 'ORG'), ('1', 'CARDINAL'), ('2', 'CARDINAL'), ('LA', 'GPE'), ('3', 'CARDINAL'), ('The Functional Independence Measure', 'ORG'), ('FIM', 'ORG'), ('1\\xa0day', 'DATE'), ('1 week', 'DATE'), ('FIM', 'ORG'), ('5', 'CARDINAL'), ('EA', 'ORG'), ('1 week', 'DATE'), ('1 week', 'DATE'), ('156', 'CARDINAL'), ('17.7%', 'PERCENT'), ('292', 'CARDINAL'), ('33.1%', 'PERCENT'), ('EA', 'ORG'), ('1 week', 'DATE'), ('3.27', 'CARDINAL'), ('95%', 'PERCENT'), ('CI', 'ORG'), ('2.17-4.94', 'QUANTITY'), ('3.33', 'CARDINAL'), ('95%', 'PERCENT'), ('EA', 'ORG')]\n",
            "\n",
            "Title: AHSA1-HSP90AA1 complex stabilized IFI6 and TGFB1 promotes mitochondrial stability and EMT in EGFR-mutated lung adenocarcinoma under Osimertinib pressure.\n",
            "Abstract: Tyrosine kinase inhibitors (TKIs) have substantially improved the management of lung adenocarcinoma harboring epidermal growth factor receptor (EGFR) mutations, however, not all patients can derive benefit from it. We found that the overexpression of IFI6 under the influence of the AHSA1-HSP90AA1 complex significantly enhances Osimertinib resistance in EGFR-mutated lung adenocarcinoma cells. This effect is achieved by stabilizing mitochondrial function, reducing apoptosis, and promoting cell survival pathways via increased Akt phosphorylation. Additionally, we revealed that TGFB1 further promotes epithelial-mesenchymal transition (EMT) and enhances the invasive and migratory capabilities of these cells, thereby intensifying resistance. Regarding mechanisms, the AHSA1-HSP90AA1 complex stabilizes IFI6 and TGFB1 to enhance cell survival and Osimertinib resistance in EGFR mutant lung adenocarcinoma. IFI6 not only aids in cellular survival under drug stress but also promotes aggressive tumor phenotypes, suggesting its viability as a novel biomarker and therapeutic target for overcoming primary TKI resistance.\n",
            "Entities: [('IFI6', 'ORG'), ('AHSA1', 'ORG'), ('Osimertinib', 'GPE'), ('Akt', 'PERSON'), ('TGFB1', 'ORG'), ('EMT', 'ORG'), ('AHSA1', 'ORG'), ('IFI6', 'ORG'), ('TGFB1', 'ORG'), ('Osimertinib', 'GPE'), ('TKI', 'ORG')]\n",
            "\n",
            "Title: Bictegravir-emtrictabine-tenofovir alafenamide in combination with oxcarbazepine in a person living with HIV and viral load suppression.\n",
            "Abstract: We describe a case of a person living with HIV (PWH) with concurrent use of bictegravir and oxcarbazepine. Concomitant use of these pharmacotherapy regimens is considered contraindicated. A review of the literature, therapeutic bictegravir drug concentration monitoring and viral load evaluations allowed the continued current pharmacotherapy prescription of these medications.\n",
            "Entities: []\n"
          ]
        }
      ]
    },
    {
      "cell_type": "code",
      "source": [
        "# Use Hugging Face's zero-shot classification model for diagnosis classification\n",
        "labels = [\"Diabetes\", \"Cancer\", \"Heart Disease\", \"Alzheimer's\", \"COVID-19\"]\n",
        "\n",
        "# Classify the user's input disease or symptoms\n",
        "result = classifier(user_input, candidate_labels=labels)\n",
        "\n",
        "print(\"\\nDiagnosis Suggestion (based on symptoms or disease name):\")\n",
        "print(f\"Prediction: {result['labels'][0]} with score {result['scores'][0]:.4f}\")\n"
      ],
      "metadata": {
        "colab": {
          "base_uri": "https://localhost:8080/"
        },
        "id": "tYdmgkopDt8r",
        "outputId": "d89aae7a-c532-4a42-8103-6f71ec3b10b0"
      },
      "execution_count": 14,
      "outputs": [
        {
          "output_type": "stream",
          "name": "stdout",
          "text": [
            "\n",
            "Diagnosis Suggestion (based on symptoms or disease name):\n",
            "Prediction: COVID-19 with score 0.3625\n"
          ]
        }
      ]
    },
    {
      "cell_type": "code",
      "source": [
        "\n",
        "\n",
        "# Import required libraries\n",
        "import os\n",
        "from Bio import Entrez\n",
        "import spacy\n",
        "\n",
        "# Set up spaCy for Named Entity Recognition (NER)\n",
        "nlp = spacy.load(\"en_core_web_sm\")\n",
        "\n",
        "# Function to search PubMed and fetch article details\n",
        "def search_pubmed(query, max_results=5):\n",
        "    Entrez.email = \"your-email@example.com\"  # Set your email (required by NCBI)\n",
        "    handle = Entrez.esearch(db=\"pubmed\", term=query, retmax=max_results)\n",
        "    record = Entrez.read(handle)\n",
        "    return record['IdList']\n",
        "\n",
        "def fetch_article_details(article_ids):\n",
        "    ids = \",\".join(article_ids)\n",
        "    handle = Entrez.efetch(db=\"pubmed\", id=ids, rettype=\"xml\", retmode=\"text\")\n",
        "    records = Entrez.read(handle)\n",
        "    return records\n",
        "\n",
        "# Function to display article details and run Named Entity Recognition (NER)\n",
        "def display_article_details(article_details):\n",
        "    for article in article_details['PubmedArticle']:\n",
        "        title = article['MedlineCitation']['Article']['ArticleTitle']\n",
        "\n",
        "        # Safely get the abstract, handle missing values\n",
        "        abstract = article['MedlineCitation']['Article'].get('Abstract', {}).get('AbstractText', [\"No abstract available\"])[0]\n",
        "\n",
        "        print(\"\\nTitle:\", title)\n",
        "        print(\"Abstract:\", abstract)\n",
        "\n",
        "        # Convert the abstract to a string explicitly, if it's not already\n",
        "        abstract = str(abstract)\n",
        "\n",
        "        # Run Named Entity Recognition (NER) on the abstract\n",
        "        doc = nlp(abstract)\n",
        "        print(\"Entities:\", [(ent.text, ent.label_) for ent in doc.ents])\n",
        "\n",
        "# Main part: Get user input, search PubMed and display results\n",
        "user_input = input(\"Enter the disease or symptoms you have: \")\n",
        "\n",
        "# Search PubMed for related articles\n",
        "article_ids = search_pubmed(user_input, max_results=5)\n",
        "\n",
        "# Fetch the details of the articles found\n",
        "article_details = fetch_article_details(article_ids)\n",
        "\n",
        "# Display article details\n",
        "display_article_details(article_details)\n"
      ],
      "metadata": {
        "colab": {
          "base_uri": "https://localhost:8080/"
        },
        "id": "J9MwNnLaDlw_",
        "outputId": "d91d12fe-ce56-4b69-e066-1fc7872b07b5"
      },
      "execution_count": 16,
      "outputs": [
        {
          "output_type": "stream",
          "name": "stdout",
          "text": [
            "Enter the disease or symptoms you have: aids\n",
            "\n",
            "Title: Do long-lasting insecticidal nets retain their efficacy after three years of usage in Afghanistan? Findings from a study on survivorship, physical integrity, insecticidal activity and wash resistance.\n",
            "Abstract: Long-Lasting Insecticidal Nets (LLINs) are effective malaria prevention tools. However, information is limited about their durability and wash resistance in field circumstances, especially in seasonal transmission areas in South Asia. This study comprised a systematic examination of usage, physical integrity and insecticidal activity of LLINs in households in Afghanistan, three years after distribution.\n",
            "Entities: [('South Asia', 'LOC'), ('LLINs', 'ORG'), ('Afghanistan', 'GPE'), ('three years', 'DATE')]\n",
            "\n",
            "Title: Combining genetic and non-genetic factors to predict the risk of pancreatic cancer in patients with new-onset diabetes mellitus.\n",
            "Abstract: Recent research suggests that new-onset diabetes mellitus (NODM) often results from pancreatic cancer (PC) rather than causing it. Determining if NODM is type 2 diabetes mellitus (T2DM) or PC-related NODM (NODM-PC) aids in the early diagnosis of PC. We developed a NODM-PC risk prediction model to stratify PC risk in patients with NODM.\n",
            "Entities: [('NODM', 'ORG'), ('NODM', 'ORG'), ('2', 'CARDINAL'), ('NODM', 'ORG'), ('NODM', 'ORG'), ('NODM', 'ORG')]\n",
            "\n",
            "Title: Impact of early postoperative ambulation on gait recovery after hip fracture surgery: a multicenter cohort study.\n",
            "Abstract: The study aimed to investigate the effect of early postoperative ambulation on gait recovery at the initial postoperative week and at discharge after hip fracture surgery in older patients. In this prospective cohort study, 882 patients aged ≥ 65 years from 10 acute hospitals in Japan were divided into early-ambulation (EA) (ambulation initiated on postoperative day 1 or 2) and late-ambulation (LA) (ambulation initiated on postoperative day 3 or later) groups. The Functional Independence Measure (FIM) was assessed 1 day postoperatively, 1 week postoperatively, and at discharge. Independent walking regardless of walking aids was defined as walking FIM ≥ 5. Multivariate logistic regression analysis and a generalized linear mixed model, accounting for inter-hospital variability, determined whether EA affected independent walking at 1 week postoperatively and at discharge. The number of patients walking independently 1 week postoperatively and at discharge was 156 (17.7%) and 292 (33.1%), respectively. On multivariate logistic regression analysis, EA was associated with independent walking at 1 week postoperatively (odds ratio [OR] 3.27; 95% confidence interval [CI] 2.17-4.94; P < 0.0001) and at discharge (OR 3.33; 95% CI 2.38-4.69; P < 0.0001). This study highlights the importance of EA in promoting postoperative independent walking, regardless of hospital setting.\n",
            "Entities: [('the initial postoperative week', 'DATE'), ('882', 'CARDINAL'), ('65 years', 'DATE'), ('10', 'CARDINAL'), ('Japan', 'GPE'), ('EA', 'ORG'), ('1', 'CARDINAL'), ('2', 'CARDINAL'), ('LA', 'GPE'), ('3', 'CARDINAL'), ('The Functional Independence Measure', 'ORG'), ('FIM', 'ORG'), ('1\\xa0day', 'DATE'), ('1 week', 'DATE'), ('FIM', 'ORG'), ('5', 'CARDINAL'), ('EA', 'ORG'), ('1 week', 'DATE'), ('1 week', 'DATE'), ('156', 'CARDINAL'), ('17.7%', 'PERCENT'), ('292', 'CARDINAL'), ('33.1%', 'PERCENT'), ('EA', 'ORG'), ('1 week', 'DATE'), ('3.27', 'CARDINAL'), ('95%', 'PERCENT'), ('CI', 'ORG'), ('2.17-4.94', 'QUANTITY'), ('3.33', 'CARDINAL'), ('95%', 'PERCENT'), ('EA', 'ORG')]\n",
            "\n",
            "Title: AHSA1-HSP90AA1 complex stabilized IFI6 and TGFB1 promotes mitochondrial stability and EMT in EGFR-mutated lung adenocarcinoma under Osimertinib pressure.\n",
            "Abstract: Tyrosine kinase inhibitors (TKIs) have substantially improved the management of lung adenocarcinoma harboring epidermal growth factor receptor (EGFR) mutations, however, not all patients can derive benefit from it. We found that the overexpression of IFI6 under the influence of the AHSA1-HSP90AA1 complex significantly enhances Osimertinib resistance in EGFR-mutated lung adenocarcinoma cells. This effect is achieved by stabilizing mitochondrial function, reducing apoptosis, and promoting cell survival pathways via increased Akt phosphorylation. Additionally, we revealed that TGFB1 further promotes epithelial-mesenchymal transition (EMT) and enhances the invasive and migratory capabilities of these cells, thereby intensifying resistance. Regarding mechanisms, the AHSA1-HSP90AA1 complex stabilizes IFI6 and TGFB1 to enhance cell survival and Osimertinib resistance in EGFR mutant lung adenocarcinoma. IFI6 not only aids in cellular survival under drug stress but also promotes aggressive tumor phenotypes, suggesting its viability as a novel biomarker and therapeutic target for overcoming primary TKI resistance.\n",
            "Entities: [('IFI6', 'ORG'), ('AHSA1', 'ORG'), ('Osimertinib', 'GPE'), ('Akt', 'PERSON'), ('TGFB1', 'ORG'), ('EMT', 'ORG'), ('AHSA1', 'ORG'), ('IFI6', 'ORG'), ('TGFB1', 'ORG'), ('Osimertinib', 'GPE'), ('TKI', 'ORG')]\n",
            "\n",
            "Title: Bictegravir-emtrictabine-tenofovir alafenamide in combination with oxcarbazepine in a person living with HIV and viral load suppression.\n",
            "Abstract: We describe a case of a person living with HIV (PWH) with concurrent use of bictegravir and oxcarbazepine. Concomitant use of these pharmacotherapy regimens is considered contraindicated. A review of the literature, therapeutic bictegravir drug concentration monitoring and viral load evaluations allowed the continued current pharmacotherapy prescription of these medications.\n",
            "Entities: []\n"
          ]
        }
      ]
    },
    {
      "cell_type": "code",
      "source": [
        "import spacy\n",
        "from Bio import Entrez\n",
        "\n",
        "# Load SpaCy model for Named Entity Recognition (NER)\n",
        "nlp = spacy.load(\"en_core_web_sm\")\n",
        "\n",
        "# Function to search PubMed for a given disease or symptom\n",
        "def search_pubmed(disease):\n",
        "    Entrez.email = \"your_email@example.com\"  # Replace with your email\n",
        "    handle = Entrez.esearch(db=\"pubmed\", term=disease, retmax=5)  # Adjust retmax for more results\n",
        "    record = Entrez.read(handle)\n",
        "    return record['IdList']\n",
        "\n",
        "# Function to fetch article details from PubMed\n",
        "def fetch_article_details(article_ids):\n",
        "    handle = Entrez.esummary(db=\"pubmed\", id=\",\".join(article_ids))\n",
        "    records = Entrez.read(handle)\n",
        "    return records\n",
        "\n",
        "# Function to display article details with better formatting\n",
        "def display_article_details(article_details):\n",
        "    print(\"\\n--- PubMed Articles Related to Your Search ---\\n\")\n",
        "    for article in article_details:\n",
        "        title = article['Title']\n",
        "        abstract = article.get('Abstract', 'No abstract available')\n",
        "        print(f\"\\nTitle: {title}\")\n",
        "        print(f\"Abstract: {abstract}\")\n",
        "\n",
        "        # Optional: Run Named Entity Recognition (NER) on the abstract\n",
        "        doc = nlp(abstract)\n",
        "        if doc.ents:\n",
        "            print(\"Entities Recognized:\")\n",
        "            for ent in doc.ents:\n",
        "                print(f\"  - {ent.text} ({ent.label_})\")\n",
        "        else:\n",
        "            print(\"No entities recognized in this abstract.\")\n",
        "\n",
        "# Main function to handle disease input and fetch relevant articles\n",
        "def get_medical_articles(disease):\n",
        "    print(f\"Searching for articles related to '{disease}'...\\n\")\n",
        "\n",
        "    # Search PubMed and fetch articles\n",
        "    article_ids = search_pubmed(disease)\n",
        "    article_details = fetch_article_details(article_ids)\n",
        "\n",
        "    # Display articles with details\n",
        "    display_article_details(article_details)\n",
        "\n",
        "# Prompt user for disease input\n",
        "disease_input = input(\"Enter the disease or symptoms you have: \")\n",
        "get_medical_articles(disease_input)\n"
      ],
      "metadata": {
        "colab": {
          "base_uri": "https://localhost:8080/"
        },
        "id": "PMbwzZl6EzqI",
        "outputId": "91a92cdd-b803-48c0-dd01-88c59764941a"
      },
      "execution_count": 17,
      "outputs": [
        {
          "output_type": "stream",
          "name": "stdout",
          "text": [
            "Enter the disease or symptoms you have: loose motion\n",
            "Searching for articles related to 'loose motion'...\n",
            "\n",
            "\n",
            "--- PubMed Articles Related to Your Search ---\n",
            "\n",
            "\n",
            "Title: Computed Tomography with Implant Movement Analysis in the Work-Up of Painful Total Hip Prostheses.\n",
            "Abstract: No abstract available\n",
            "No entities recognized in this abstract.\n",
            "\n",
            "Title: Hydration Water Dynamics in Zwitterionic Phospholipid Membranes Mixed with Charged Phospholipids.\n",
            "Abstract: No abstract available\n",
            "No entities recognized in this abstract.\n",
            "\n",
            "Title: Disseminated synovial chondromatosis of the knee treated by open radical synovectomy using staged combined anterior and posterior approaches: a case report.\n",
            "Abstract: No abstract available\n",
            "No entities recognized in this abstract.\n",
            "\n",
            "Title: The dynamics of substituted benzoate anions undergoing counterion condensation in lamellar phase dispersions.\n",
            "Abstract: No abstract available\n",
            "No entities recognized in this abstract.\n",
            "\n",
            "Title: Cephalobturator Neoacetabuloplasty: A Therapeutic Solution in Vicious Ankylosis After Developmental Dislocation of the Operated Hip-Case Study.\n",
            "Abstract: No abstract available\n",
            "No entities recognized in this abstract.\n"
          ]
        }
      ]
    },
    {
      "cell_type": "code",
      "source": [
        "import spacy\n",
        "from Bio import Entrez\n",
        "\n",
        "# Load SpaCy model for Named Entity Recognition (NER)\n",
        "nlp = spacy.load(\"en_core_web_sm\")\n",
        "\n",
        "# Function to search PubMed for a given disease or symptom\n",
        "def search_pubmed(disease):\n",
        "    Entrez.email = \"your_email@example.com\"  # Replace with your email\n",
        "    # Modify search term to make it more specific to diarrhea or gastrointestinal issues\n",
        "    search_term = f\"diarrhea OR loose motion OR gastrointestinal disorder\"\n",
        "    handle = Entrez.esearch(db=\"pubmed\", term=search_term, retmax=5)  # Adjust retmax for more results\n",
        "    record = Entrez.read(handle)\n",
        "    return record['IdList']\n",
        "\n",
        "# Function to fetch article details from PubMed\n",
        "def fetch_article_details(article_ids):\n",
        "    handle = Entrez.esummary(db=\"pubmed\", id=\",\".join(article_ids))\n",
        "    records = Entrez.read(handle)\n",
        "    return records\n",
        "\n",
        "# Function to display article details with better formatting\n",
        "def display_article_details(article_details):\n",
        "    print(\"\\n--- PubMed Articles Related to Your Search ---\\n\")\n",
        "    for article in article_details:\n",
        "        title = article['Title']\n",
        "        abstract = article.get('Abstract', 'No abstract available')\n",
        "        print(f\"\\nTitle: {title}\")\n",
        "        print(f\"Abstract: {abstract}\")\n",
        "\n",
        "        # Optional: Run Named Entity Recognition (NER) on the abstract\n",
        "        doc = nlp(abstract)\n",
        "        if doc.ents:\n",
        "            print(\"Entities Recognized:\")\n",
        "            for ent in doc.ents:\n",
        "                print(f\"  - {ent.text} ({ent.label_})\")\n",
        "        else:\n",
        "            print(\"No entities recognized in this abstract.\")\n",
        "\n",
        "# Main function to handle disease input and fetch relevant articles\n",
        "def get_medical_articles(disease):\n",
        "    print(f\"Searching for articles related to '{disease}'...\\n\")\n",
        "\n",
        "    # Search PubMed and fetch articles\n",
        "    article_ids = search_pubmed(disease)\n",
        "    article_details = fetch_article_details(article_ids)\n",
        "\n",
        "    # Display articles with details\n",
        "    display_article_details(article_details)\n",
        "\n",
        "# Prompt user for disease input\n",
        "disease_input = input(\"Enter the disease or symptoms you have: \")\n",
        "get_medical_articles(disease_input)\n"
      ],
      "metadata": {
        "colab": {
          "base_uri": "https://localhost:8080/"
        },
        "id": "L-LDRe6HFOrc",
        "outputId": "afc1a3f6-48cd-41f6-d79c-26dee47ffcf2"
      },
      "execution_count": 36,
      "outputs": [
        {
          "output_type": "stream",
          "name": "stdout",
          "text": [
            "Enter the disease or symptoms you have: head ache, body pain, fever\n",
            "Searching for articles related to 'head ache, body pain, fever'...\n",
            "\n",
            "\n",
            "--- PubMed Articles Related to Your Search ---\n",
            "\n",
            "\n",
            "Title: Effect of inulin supplementation in maternal fecal microbiota transplantation on the early growth of chicks.\n",
            "Abstract: No abstract available\n",
            "No entities recognized in this abstract.\n",
            "\n",
            "Title: Association of ultrasound signs of sarcopenia with serum ferritin levels and hepatic indices like NFS and FIB-4 in NAFLD patients.\n",
            "Abstract: No abstract available\n",
            "No entities recognized in this abstract.\n",
            "\n",
            "Title: Necrotizing enterocolitis: diagnosis with plasma IgG anti-tissue transglutaminase antibodies.\n",
            "Abstract: No abstract available\n",
            "No entities recognized in this abstract.\n",
            "\n",
            "Title: Galangin exosomes induce cell apoptosis through miR-10b/P53 axis in gastric cancer.\n",
            "Abstract: No abstract available\n",
            "No entities recognized in this abstract.\n",
            "\n",
            "Title: Disrupting bile acid metabolism by suppressing Fxr causes hepatocellular carcinoma induced by YAP activation.\n",
            "Abstract: No abstract available\n",
            "No entities recognized in this abstract.\n"
          ]
        }
      ]
    },
    {
      "cell_type": "code",
      "source": [
        "import spacy\n",
        "from Bio import Entrez\n",
        "\n",
        "# Load SpaCy model for Named Entity Recognition (NER)\n",
        "nlp = spacy.load(\"en_core_web_sm\")\n",
        "\n",
        "# Function to search PubMed for a given disease or symptom\n",
        "def search_pubmed(disease):\n",
        "    Entrez.email = \"your_email@example.com\"  # Replace with your email\n",
        "    # Modify search term to make it more specific to diarrhea or gastrointestinal issues\n",
        "    search_term = f\"diarrhea OR loose motion OR gastrointestinal disorder\"\n",
        "    handle = Entrez.esearch(db=\"pubmed\", term=search_term, retmax=5)  # Adjust retmax for more results\n",
        "    record = Entrez.read(handle)\n",
        "    return record['IdList']\n",
        "\n",
        "# Function to fetch article details from PubMed\n",
        "def fetch_article_details(article_ids):\n",
        "    handle = Entrez.esummary(db=\"pubmed\", id=\",\".join(article_ids))\n",
        "    records = Entrez.read(handle)\n",
        "    return records\n",
        "\n",
        "# Function to display article details with better formatting\n",
        "def display_article_details(article_details):\n",
        "    print(\"\\n--- PubMed Articles Related to Your Search ---\\n\")\n",
        "    for article in article_details:\n",
        "        title = article['Title']\n",
        "        abstract = article.get('Abstract', 'No abstract available')\n",
        "        print(f\"\\nTitle: {title}\")\n",
        "        print(f\"Abstract: {abstract}\")\n",
        "\n",
        "        # Optional: Run Named Entity Recognition (NER) on the abstract\n",
        "        doc = nlp(abstract)\n",
        "        if doc.ents:\n",
        "            print(\"Entities Recognized:\")\n",
        "            for ent in doc.ents:\n",
        "                print(f\"  - {ent.text} ({ent.label_})\")\n",
        "        else:\n",
        "            print(\"No entities recognized in this abstract.\")\n",
        "\n",
        "# Main function to handle disease input and fetch relevant articles\n",
        "def get_medical_articles(disease):\n",
        "    print(f\"Searching for articles related to '{disease}'...\\n\")\n",
        "\n",
        "    # Search PubMed and fetch articles\n",
        "    article_ids = search_pubmed(disease)\n",
        "    article_details = fetch_article_details(article_ids)\n",
        "\n",
        "    # Display articles with details\n",
        "    display_article_details(article_details)\n",
        "\n",
        "# Prompt user for disease input\n",
        "disease_input = input(\"Enter the disease or symptoms you have: \")\n",
        "get_medical_articles(disease_input)\n"
      ],
      "metadata": {
        "colab": {
          "base_uri": "https://localhost:8080/"
        },
        "id": "qjNThyKSJYxB",
        "outputId": "e131aadb-cffb-467d-cbb4-4dc9c1993cda"
      },
      "execution_count": 37,
      "outputs": [
        {
          "output_type": "stream",
          "name": "stdout",
          "text": [
            "Enter the disease or symptoms you have: keshav\n",
            "Searching for articles related to 'keshav'...\n",
            "\n",
            "\n",
            "--- PubMed Articles Related to Your Search ---\n",
            "\n",
            "\n",
            "Title: Effect of inulin supplementation in maternal fecal microbiota transplantation on the early growth of chicks.\n",
            "Abstract: No abstract available\n",
            "No entities recognized in this abstract.\n",
            "\n",
            "Title: Association of ultrasound signs of sarcopenia with serum ferritin levels and hepatic indices like NFS and FIB-4 in NAFLD patients.\n",
            "Abstract: No abstract available\n",
            "No entities recognized in this abstract.\n",
            "\n",
            "Title: Necrotizing enterocolitis: diagnosis with plasma IgG anti-tissue transglutaminase antibodies.\n",
            "Abstract: No abstract available\n",
            "No entities recognized in this abstract.\n",
            "\n",
            "Title: Galangin exosomes induce cell apoptosis through miR-10b/P53 axis in gastric cancer.\n",
            "Abstract: No abstract available\n",
            "No entities recognized in this abstract.\n",
            "\n",
            "Title: Disrupting bile acid metabolism by suppressing Fxr causes hepatocellular carcinoma induced by YAP activation.\n",
            "Abstract: No abstract available\n",
            "No entities recognized in this abstract.\n"
          ]
        }
      ]
    }
  ]
}